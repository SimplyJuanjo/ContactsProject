{
  "nbformat": 4,
  "nbformat_minor": 0,
  "metadata": {
    "colab": {
      "name": "ContactsProject",
      "provenance": [],
      "mount_file_id": "1zVUyQNd-D_uGPQdNwxyvgpELbn_aoGCL",
      "authorship_tag": "ABX9TyNwf/I4JTb0iRJKJoVqPZr1",
      "include_colab_link": true
    },
    "kernelspec": {
      "display_name": "Python 3",
      "name": "python3"
    },
    "language_info": {
      "name": "python"
    }
  },
  "cells": [
    {
      "cell_type": "markdown",
      "metadata": {
        "id": "view-in-github",
        "colab_type": "text"
      },
      "source": [
        "<a href=\"https://colab.research.google.com/github/SimplyJuanjo/ContactsProject/blob/main/ContactsProject.ipynb\" target=\"_parent\"><img src=\"https://colab.research.google.com/assets/colab-badge.svg\" alt=\"Open In Colab\"/></a>"
      ]
    },
    {
      "cell_type": "code",
      "metadata": {
        "id": "XhtKr8mOTSm2"
      },
      "source": [
        "#ContactList Project\n",
        "\n",
        "#Implement a contact list:\n",
        "    # - Define a class which represent a contact (name, email, phone, ...) (implemented)\n",
        "    # - Define a class which represent a list of contacts with methods to add, show and delete contacts (implemented)\n",
        "    # - Allow the user to add new contacts, see the list and delete contacts (implemented)\n",
        "    # - Use module pickle for saving and restoring contacts when closing and opening the app\n",
        "    # - Any other implementation you can create:\n",
        "\n",
        "        # - Calculate the age of a contact\n",
        "\n",
        "#Upload your project to GitHub"
      ],
      "execution_count": 173,
      "outputs": []
    },
    {
      "cell_type": "code",
      "metadata": {
        "id": "abKgk9piXfo3"
      },
      "source": [
        "#ContactClass\n",
        "\n",
        "class Contact:\n",
        "\n",
        "  def __init__(self, name, year): #, email, phone, city, company, civilStatus):\n",
        "    self.name = name\n",
        "    self.year = year\n",
        "    #self.email = email\n",
        "    #self.phone = phone\n",
        "    #self.city = city\n",
        "    #self.company = company\n",
        "    #self.civilStatus = civilStatus"
      ],
      "execution_count": 174,
      "outputs": []
    },
    {
      "cell_type": "code",
      "metadata": {
        "colab": {
          "base_uri": "https://localhost:8080/"
        },
        "id": "-MqXwi7vZ6uf",
        "outputId": "b84f3a4b-6267-41e1-843b-135fa1d595e4"
      },
      "source": [
        "#ContactListClass\n",
        "\n",
        "class ContactList:\n",
        "  List = []\n",
        "\n",
        "  def __init__(self):\n",
        "    \n",
        "    print(f\"\"\"Welcome to your contact list!\n",
        "Here you can add how many contacts you like,     1 ---> Add New Contact\n",
        "you can also show the entire list of contacts    2 ---> Show All Contacts\n",
        "and delete any contact you don't need anymore    3 ---> Delete Contact   \n",
        "                                                 Other nº --> Close app\n",
        "\"\"\")\n",
        "    \n",
        "  def newContact(self):\n",
        "\n",
        "    name = input(\"What's the name of the contact \")\n",
        "    year = input(\"When was the contact born? \")\n",
        "    #email = input(\"Add an email: \")\n",
        "    #phone = input(\"Add a phone number: \")\n",
        "    #city = input(\"Where does the contact live? \")\n",
        "    #company = input(\"Add a company: \")\n",
        "    #civilStatus = input(\"Is the contact single, married or divorced? \")\n",
        "    \n",
        "    tempContact = Contact(name, year) #, email, phone, city, company, civilStatus)\n",
        "    self.List.append(tempContact)\n",
        "\n",
        "  def showAll(self):\n",
        "    for i in range(len(self.List)):\n",
        "      tempContact = self.List[i]\n",
        "      print(f'Contact nº {i} is {tempContact.__dict__}')\n",
        "\n",
        "  def delContact(self, i):\n",
        "    tempContact = self.List[i]\n",
        "    print(f'Contact: {tempContact.__dict__} has been removed from the contact list')\n",
        "    del self.List[i] #self.List.remove(i) not working, okey\n",
        "    \n",
        "\n",
        "Agenda = ContactList()"
      ],
      "execution_count": 182,
      "outputs": [
        {
          "output_type": "stream",
          "name": "stdout",
          "text": [
            "Welcome to your contact list!\n",
            "Here you can add how many contacts you like,     1 ---> Add New Contact\n",
            "you can also show the entire list of contacts    2 ---> Show All Contacts\n",
            "and delete any contact you don't need anymore    3 ---> Delete Contact   \n",
            "                                                 Other nº --> Close app\n",
            "\n"
          ]
        }
      ]
    },
    {
      "cell_type": "code",
      "metadata": {
        "id": "j1QkmC9Pe2nJ"
      },
      "source": [
        "#Testing methods\n",
        "#Agenda.newContact()\n",
        "#Agenda.newContact()\n"
      ],
      "execution_count": 176,
      "outputs": []
    },
    {
      "cell_type": "code",
      "metadata": {
        "id": "3MgZoEC4fpJ6"
      },
      "source": [
        "#Testing methods\n",
        "#Agenda.showAll()"
      ],
      "execution_count": 177,
      "outputs": []
    },
    {
      "cell_type": "code",
      "metadata": {
        "id": "c69Tvw9KCJZ3"
      },
      "source": [
        "#Testing methods\n",
        "#Agenda.delContact(1)\n",
        "#Agenda.showAll()"
      ],
      "execution_count": 179,
      "outputs": []
    },
    {
      "cell_type": "code",
      "metadata": {
        "colab": {
          "base_uri": "https://localhost:8080/"
        },
        "id": "oZrTFZp_lZ6f",
        "outputId": "2de88cd3-ffa2-44e0-a237-82b1825e02f1"
      },
      "source": [
        "!python --version\n",
        "import pickle as pk\n",
        "import os\n",
        "from google.colab import drive\n",
        "\n",
        "drive.mount('/content/drive', force_remount = True)\n",
        "PATH = '/content/drive/MyDrive/pickleData'\n",
        "\n",
        "fileName = \"pickleContacts.pkl\"\n",
        "pathToEmbed = os.path.join(PATH, fileName)\n",
        "print(pathToEmbed)\n"
      ],
      "execution_count": 180,
      "outputs": [
        {
          "output_type": "stream",
          "name": "stdout",
          "text": [
            "Python 3.7.12\n",
            "Mounted at /content/drive\n",
            "/content/drive/MyDrive/pickleData/pickleContacts.pkl\n"
          ]
        }
      ]
    },
    {
      "cell_type": "code",
      "metadata": {
        "colab": {
          "base_uri": "https://localhost:8080/"
        },
        "id": "hAme8-jCKe_C",
        "outputId": "d39c4f75-afdb-451c-acf1-d02b6ec79aea"
      },
      "source": [
        "#Main loop\n",
        "\n",
        "c = 0\n",
        "print(\"Welcome to the Contact List app!\")\n",
        "c =int(input(\"Press 1 + Intro to start: \"))\n",
        "\n",
        "print(\"\")\n",
        "Agenda = ContactList()\n",
        "Agenda.List = pk.load(open(pathToEmbed, \"rb\"))\n",
        "\n",
        "while c == 1:\n",
        "\n",
        "  decc = int(input(\"What do you want to do? \"))\n",
        "  print(\"\")\n",
        "\n",
        "  #Could need a try/except here for better error handling\n",
        "  if decc == 1:\n",
        "    Agenda.newContact()\n",
        "    print(\"\")\n",
        "  elif decc == 2:\n",
        "    Agenda.showAll()\n",
        "    print(\"\")\n",
        "  elif decc == 3:\n",
        "    i = int(input(\"Select the nº you want to delete: \"))\n",
        "    Agenda.delContact(i)\n",
        "    print(\"\")\n",
        "  else:\n",
        "    print(\"You didn't select any option.\")\n",
        "    err = 1\n",
        "    while err == 1:\n",
        "      var = input(\"Do you want to close the app? \")\n",
        "      print(\"\")\n",
        "\n",
        "      if var == \"Yes\":\n",
        "        c = 0\n",
        "        break\n",
        "      elif var == \"No\":\n",
        "        c = 1\n",
        "        break\n",
        "      else:\n",
        "        print(\"You must select Yes or No\")\n",
        "\n",
        "pk.dump(Agenda.List, open(pathToEmbed, \"wb\"))     \n",
        "print(\"Have a nice day\")"
      ],
      "execution_count": 183,
      "outputs": [
        {
          "output_type": "stream",
          "name": "stdout",
          "text": [
            "Welcome to the Contact List app!\n",
            "Press 1 + Intro to start: 1\n",
            "\n",
            "Welcome to your contact list!\n",
            "Here you can add how many contacts you like,     1 ---> Add New Contact\n",
            "you can also show the entire list of contacts    2 ---> Show All Contacts\n",
            "and delete any contact you don't need anymore    3 ---> Delete Contact   \n",
            "                                                 Other nº --> Close app\n",
            "\n",
            "What do you want to do? 6\n",
            "\n",
            "You didn't select any option.\n",
            "Do you want to close the app? Yes\n",
            "\n",
            "Have a nice day\n"
          ]
        }
      ]
    }
  ]
}