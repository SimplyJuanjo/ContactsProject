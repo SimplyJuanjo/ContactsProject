{
  "nbformat": 4,
  "nbformat_minor": 0,
  "metadata": {
    "colab": {
      "name": "ContactsProject",
      "provenance": [],
      "mount_file_id": "1zVUyQNd-D_uGPQdNwxyvgpELbn_aoGCL",
      "authorship_tag": "ABX9TyOKM1BaVwJLgIbOtnE2wZ7h",
      "include_colab_link": true
    },
    "kernelspec": {
      "display_name": "Python 3",
      "name": "python3"
    },
    "language_info": {
      "name": "python"
    }
  },
  "cells": [
    {
      "cell_type": "markdown",
      "metadata": {
        "id": "view-in-github",
        "colab_type": "text"
      },
      "source": [
        "<a href=\"https://colab.research.google.com/github/SimplyJuanjo/ContactsProject/blob/main/InheritanceContactsProject.ipynb\" target=\"_parent\"><img src=\"https://colab.research.google.com/assets/colab-badge.svg\" alt=\"Open In Colab\"/></a>"
      ]
    },
    {
      "cell_type": "code",
      "metadata": {
        "id": "XhtKr8mOTSm2"
      },
      "source": [
        "#ContactList Project\n",
        "\n",
        "#Implement a contact list:\n",
        "    # - Define a class which represent a contact (name, email, phone, ...) (implemented)\n",
        "    # - Define a class which represent a list of contacts with methods to add, show and delete contacts (implemented)\n",
        "    # - Allow the user to add new contacts, see the list and delete contacts (implemented)\n",
        "    # - Use module pickle for saving and restoring contacts when closing and opening the app (implemented)\n",
        "    # - Any other implementation you can create:\n",
        "\n",
        "        # - Calculate the age of a contact (implemented)\n",
        "        # - Email one of your contacts\n",
        "\n",
        "    # - Use inheritance to add:\n",
        "        \n",
        "        # - Favs contacts class, with added funcionality (implemented)\n",
        "        # - Undesired contacts class, not shown in the list (implemented)\n",
        "        # - Any other inherited funcionality you can come up with:\n",
        "\n",
        "            # - How many days are left until favs' birthday?\n",
        "\n",
        "#Upload your project to GitHub"
      ],
      "execution_count": 59,
      "outputs": []
    },
    {
      "cell_type": "code",
      "metadata": {
        "id": "abKgk9piXfo3"
      },
      "source": [
        "#ContactClass\n",
        "import time\n",
        "year = time.strftime(\"%Y\", time.gmtime())\n",
        "\n",
        "class Contact:\n",
        "\n",
        "  def __init__(self, name, year): #, email, phone, city, company, civilStatus):\n",
        "    self.name = name\n",
        "    self.year = year\n",
        "    #self.email = email\n",
        "    #self.phone = phone\n",
        "    #self.city = city\n",
        "    #self.company = company\n",
        "    #self.civilStatus = civilStatus\n",
        "\n",
        "  def age(self):\n",
        "    age = int(year) - int(self.year)\n",
        "    print(f'{self.name} is {age} years old')"
      ],
      "execution_count": 60,
      "outputs": []
    },
    {
      "cell_type": "code",
      "metadata": {
        "colab": {
          "base_uri": "https://localhost:8080/"
        },
        "id": "4isv0PXV42qw",
        "outputId": "7c1410b9-d30f-4399-810d-312354df5c6f"
      },
      "source": [
        "#Testing methods\n",
        "#contact = Contact(\"Mery\", 1997)\n",
        "#contact.age()"
      ],
      "execution_count": 29,
      "outputs": [
        {
          "output_type": "stream",
          "name": "stdout",
          "text": [
            "Mery is 24 years old\n"
          ]
        }
      ]
    },
    {
      "cell_type": "code",
      "metadata": {
        "id": "-MqXwi7vZ6uf"
      },
      "source": [
        "#ContactListClass\n",
        "\n",
        "class ContactList():\n",
        "  List = []\n",
        "  Shadow = []\n",
        "\n",
        "  def __init__(self):\n",
        "    \n",
        "    print(f\"\"\"Welcome to your contact list!\n",
        "Here you can add how many contacts you like,     1 ---> Add New Contact\n",
        "you can also show the entire list of contacts    2 ---> Show All Contacts\n",
        "and delete any contact you don't need anymore.   3 ---> Delete Contact   \n",
        "Furthermore, the list calculate the age of       4 ---> Age of Contact\n",
        "your contacts\n",
        "                                                 Other nº --> Close app\n",
        "\"\"\")\n",
        "    \n",
        "  def newContact(self, k):\n",
        "\n",
        "    name = input(\"What's the name of the contact? \")\n",
        "    year = input(\"When was the contact born? \")\n",
        "    #email = input(\"Add an email: \")\n",
        "    #phone = input(\"Add a phone number: \")\n",
        "    #city = input(\"Where does the contact live? \")\n",
        "    #company = input(\"Add a company: \")\n",
        "    #civilStatus = input(\"Is the contact single, married or divorced? \")\n",
        "    \n",
        "    if k == 1:\n",
        "      tempContact = Contact(name, year) #, email, phone, city, company, civilStatus)\n",
        "      self.List.append(tempContact)\n",
        "    elif k == 2:\n",
        "      bd = input(\"When is the birthday of your contact? Please use dd/mm/yyyy: \")\n",
        "      tempContact = FavouriteContact(name, year, bd) #, email, phone, city, company, civilStatus)\n",
        "      self.List.append(tempContact)\n",
        "    else:\n",
        "      tempContact = ShadowContact(name, year, shadow=1) #, email, phone, city, company, civilStatus)\n",
        "      self.Shadow.append(tempContact)\n",
        "\n",
        "  def showAll(self, l):\n",
        "\n",
        "    if l == 0:\n",
        "      for i in range(len(self.List)):\n",
        "        tempContact = self.List[i]\n",
        "        print(f'Contact nº {i} is {tempContact.__dict__}')\n",
        "        \n",
        "    else:\n",
        "      for i in range(len(self.Shadow)):\n",
        "        tempContact = self.Shadow[i]\n",
        "        print(f'Contact nº {i} is {tempContact.__dict__}')\n",
        "  \n",
        "#  def showShadow(self):\n",
        "#      for i in range(len(self.List)):                          I don't need to duplicate this, make a bigger effort compressing pls\n",
        "#      tempContact = self.List[i]\n",
        "#      print(f'Contact nº {i} is {tempContact.__dict__}')\n",
        "\n",
        "  def delContact(self, i):\n",
        "    tempContact = self.List[i]\n",
        "    print(f'Contact: {tempContact.__dict__} has been removed from the contact list')\n",
        "    del self.List[i] #self.List.remove(i) not working, okey\n",
        "\n",
        "  def age(self, i):\n",
        "    tempContact = self.List[i]\n",
        "    tempContact.age()\n",
        "    "
      ],
      "execution_count": 73,
      "outputs": []
    },
    {
      "cell_type": "code",
      "metadata": {
        "id": "bqa8DIEeESeu"
      },
      "source": [
        "#Inherited classes\n",
        "\n",
        "class FavouriteContact(Contact):\n",
        "\n",
        "  def __init__(self, name, year, bd): #, email, phone, city, company, civilStatus):\n",
        "    super().__init__(name, year)\n",
        "    self.bd = bd\n",
        "\n",
        "class ShadowContact(Contact):\n",
        "\n",
        "  def __init__(self, name, year, shadow): #, email, phone, city, company, civilStatus):\n",
        "    super().__init__(name, year)\n",
        "    self.shadow = shadow\n",
        "  #I don't even need this class but okey (well maybe I can do smth spicy)"
      ],
      "execution_count": 71,
      "outputs": []
    },
    {
      "cell_type": "code",
      "metadata": {
        "id": "j1QkmC9Pe2nJ"
      },
      "source": [
        "#Testing methods\n",
        "#Agenda.newContact()\n",
        "#Agenda.newContact()\n"
      ],
      "execution_count": null,
      "outputs": []
    },
    {
      "cell_type": "code",
      "metadata": {
        "id": "3MgZoEC4fpJ6"
      },
      "source": [
        "#Testing methods\n",
        "#Agenda.showAll()"
      ],
      "execution_count": null,
      "outputs": []
    },
    {
      "cell_type": "code",
      "metadata": {
        "id": "c69Tvw9KCJZ3"
      },
      "source": [
        "#Testing methods\n",
        "#Agenda.delContact(1)\n",
        "#Agenda.showAll()"
      ],
      "execution_count": null,
      "outputs": []
    },
    {
      "cell_type": "code",
      "metadata": {
        "colab": {
          "base_uri": "https://localhost:8080/"
        },
        "id": "jtqkwG7z9e5C",
        "outputId": "aa10fd3d-ee0c-4bdc-f704-83de6e12b775"
      },
      "source": [
        "#Testing methods\n",
        "#Agenda.age(3)"
      ],
      "execution_count": 48,
      "outputs": [
        {
          "output_type": "stream",
          "name": "stdout",
          "text": [
            "Pick is 22 years old\n"
          ]
        }
      ]
    },
    {
      "cell_type": "code",
      "metadata": {
        "colab": {
          "base_uri": "https://localhost:8080/"
        },
        "id": "oZrTFZp_lZ6f",
        "outputId": "4fc511fc-0dab-41da-d4db-34fc77c17361"
      },
      "source": [
        "!python --version\n",
        "import pickle as pk\n",
        "import os\n",
        "from google.colab import drive\n",
        "\n",
        "drive.mount('/content/drive', force_remount = True)\n",
        "PATH = '/content/drive/MyDrive/pickleData'\n",
        "\n",
        "fileName = \"pickleContacts.pkl\"\n",
        "fileName2 = \"shadowContacts.pkl\"\n",
        "\n",
        "pathToEmbed = os.path.join(PATH, fileName)\n",
        "pathToEmbed2 = os.path.join(PATH, fileName2)\n",
        "print(pathToEmbed)\n",
        "print(pathToEmbed2)\n"
      ],
      "execution_count": 76,
      "outputs": [
        {
          "output_type": "stream",
          "name": "stdout",
          "text": [
            "Python 3.7.12\n",
            "Mounted at /content/drive\n",
            "/content/drive/MyDrive/pickleData/pickleContacts.pkl\n",
            "/content/drive/MyDrive/pickleData/shadowContacts.pkl\n"
          ]
        }
      ]
    },
    {
      "cell_type": "code",
      "metadata": {
        "colab": {
          "base_uri": "https://localhost:8080/"
        },
        "id": "hAme8-jCKe_C",
        "outputId": "f4905c0c-6b27-43af-c701-9239e4c35cbe"
      },
      "source": [
        "#Main loop\n",
        "\n",
        "c = 0\n",
        "print(\"Welcome to the Contact List app!\")\n",
        "c =int(input(\"Press 1 + Intro to start: \"))\n",
        "\n",
        "print(\"\")\n",
        "Agenda = ContactList()\n",
        "Agenda.List = pk.load(open(pathToEmbed, \"rb\"))\n",
        "Agenda.Shadow = pk.load(open(pathToEmbed2, \"rb\"))\n",
        "\n",
        "while c == 1:\n",
        "\n",
        "  decc = int(input(\"What do you want to do? \"))\n",
        "  print(\"\")\n",
        "\n",
        "  #Could need a try/except here for better error handling\n",
        "  if decc == -1:\n",
        "    Agenda.showAll(1)\n",
        "    print(\"\")    \n",
        "  elif decc == 1:\n",
        "    print(\"You can create normal contacts, favourite contacts and shadow contacts.\")\n",
        "    typeCtt = input(\"Which one do you want to create? \")\n",
        "    print(\"\")\n",
        "    loopVar = 0\n",
        "    while loopVar == 0:\n",
        "      if typeCtt == \"normal\":\n",
        "        Agenda.newContact(1)\n",
        "        loopVar = 1\n",
        "      elif typeCtt == \"favourite\":\n",
        "        Agenda.newContact(2)\n",
        "        loopVar = 1\n",
        "      elif typeCtt == \"shadow\":\n",
        "        Agenda.newContact(3)\n",
        "        loopVar = 1\n",
        "      else: \n",
        "        typeCtt = input(\"Sorry, you can only select normal/favourite/shadow. Please use those terms: \")\n",
        "\n",
        "    print(\"\")\n",
        "  elif decc == 2:\n",
        "    Agenda.showAll(0)\n",
        "    print(\"\")\n",
        "  elif decc == 3:\n",
        "    i = int(input(\"Select the nº you want to delete: \"))\n",
        "    Agenda.delContact(i)\n",
        "    print(\"\")\n",
        "  elif decc == 4:\n",
        "    j = int(input(\"Select the nº from whom you want the age: \"))\n",
        "    Agenda.age(j)\n",
        "  else:\n",
        "    print(\"You didn't select any option.\")\n",
        "    err = 1\n",
        "    while err == 1:\n",
        "      var = input(\"Do you want to close the app? \")\n",
        "      print(\"\")\n",
        "\n",
        "      if var == \"Yes\":\n",
        "        c = 0\n",
        "        break\n",
        "      elif var == \"No\":\n",
        "        c = 1\n",
        "        break\n",
        "      else:\n",
        "        print(\"You must select Yes or No!\")\n",
        "\n",
        "pk.dump(Agenda.List, open(pathToEmbed, \"wb\"))\n",
        "pk.dump(Agenda.Shadow, open(pathToEmbed2, \"wb\"))\n",
        "print(\"Have a nice day\")"
      ],
      "execution_count": 78,
      "outputs": [
        {
          "output_type": "stream",
          "name": "stdout",
          "text": [
            "Welcome to the Contact List app!\n",
            "Press 1 + Intro to start: 1\n",
            "\n",
            "Welcome to your contact list!\n",
            "Here you can add how many contacts you like,     1 ---> Add New Contact\n",
            "you can also show the entire list of contacts    2 ---> Show All Contacts\n",
            "and delete any contact you don't need anymore.   3 ---> Delete Contact   \n",
            "Furthermore, the list calculate the age of       4 ---> Age of Contact\n",
            "your contacts\n",
            "                                                 Other nº --> Close app\n",
            "\n",
            "What do you want to do? -1\n",
            "\n",
            "Contact nº 0 is {'name': 'Emma', 'year': '1999', 'shadow': 1}\n",
            "\n",
            "What do you want to do? 6\n",
            "\n",
            "You didn't select any option.\n",
            "Do you want to close the app? Yes\n",
            "\n",
            "Have a nice day\n"
          ]
        }
      ]
    }
  ]
}